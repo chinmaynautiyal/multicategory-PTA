{
 "cells": [
  {
   "cell_type": "code",
   "execution_count": 2,
   "metadata": {},
   "outputs": [],
   "source": [
    "#decompressing training dataset\n",
    "\n",
    "import gzip\n",
    "import idx2numpy\n",
    "import numpy as np\n",
    "\n",
    "train_file = 'mnist/train-images-idx3-ubyte'\n",
    "train_label_file = 'mnist/train-labels-idx1-ubyte'\n",
    "test_file = 'mnist/t10k-images-idx3-ubyte'\n",
    "test_label_file = 'mnist/t10k-labels-idx1-ubyte'\n",
    "\n",
    "train_arr = idx2numpy.convert_from_file(train_file)\n",
    "train_label_arr = idx2numpy.convert_from_file(train_label_file)\n",
    "\n",
    "test_arr = idx2numpy.convert_from_file(test_file) \n",
    "test_label_arr = idx2numpy.convert_from_file(test_label_file)"
   ]
  },
  {
   "cell_type": "code",
   "execution_count": null,
   "metadata": {},
   "outputs": [],
   "source": []
  },
  {
   "cell_type": "code",
   "execution_count": 3,
   "metadata": {},
   "outputs": [],
   "source": [
    "train = np.reshape(train_arr, (60000, 784))\n",
    "test = np.reshape(test_arr, (10000,784))\n",
    "\n",
    "train_label = np.reshape(train_label_arr, (60000, 1))\n",
    "test_label = np.reshape(test_label_arr, (10000,1))"
   ]
  },
  {
   "cell_type": "code",
   "execution_count": 12,
   "metadata": {
    "scrolled": true
   },
   "outputs": [
    {
     "data": {
      "text/plain": [
       "array([5], dtype=uint8)"
      ]
     },
     "execution_count": 12,
     "metadata": {},
     "output_type": "execute_result"
    }
   ],
   "source": [
    "tw"
   ]
  },
  {
   "cell_type": "code",
   "execution_count": 5,
   "metadata": {},
   "outputs": [
    {
     "data": {
      "text/plain": [
       "(10000, 784)"
      ]
     },
     "execution_count": 5,
     "metadata": {},
     "output_type": "execute_result"
    }
   ],
   "source": [
    "test.shape"
   ]
  },
  {
   "cell_type": "code",
   "execution_count": 6,
   "metadata": {},
   "outputs": [],
   "source": [
    "w = np.random.uniform(-1, 1, (10,784))\n",
    "\n"
   ]
  },
  {
   "cell_type": "code",
   "execution_count": 7,
   "metadata": {},
   "outputs": [
    {
     "name": "stdout",
     "output_type": "stream",
     "text": [
      "Learning Rate :1\n",
      "no of samples: 10000\n"
     ]
    }
   ],
   "source": [
    "eta = float(input('Learning Rate :'))\n",
    "n = int(input('no of samples: '))\n",
    "epsilon = 0.1\n",
    "epoch = 0\n",
    "errors = np.zeros([n,1])\n",
    "v = np.zeros([n,10])\n",
    "predicted = np.zeros([n,1],dtype=np.int8)\n",
    "d = np.zeros([10,1])\n",
    "u = np.zeros([10,1])\n",
    "\n",
    "e = np.empty([0,1])\n",
    "m = np.empty([0,1])\n",
    "\n"
   ]
  },
  {
   "cell_type": "code",
   "execution_count": 8,
   "metadata": {},
   "outputs": [
    {
     "data": {
      "text/plain": [
       "(784,)"
      ]
     },
     "execution_count": 8,
     "metadata": {},
     "output_type": "execute_result"
    }
   ],
   "source": [
    "test = train[0].reshape((1,-1))\n",
    "test.shape\n",
    "\n",
    "test[0].shape"
   ]
  },
  {
   "cell_type": "code",
   "execution_count": 9,
   "metadata": {},
   "outputs": [],
   "source": [
    "while True: #do - while loop \n",
    "    #print(\"epoch:\",epoch)\n",
    "    \n",
    "    for i in range(0,n):\n",
    "        v[i] = np.dot(w,train[i]) \n",
    "        predicted[i] = np.argmax(v[i]) \n",
    "        if(predicted[i]!=train_label[i]): \n",
    "            errors[epoch] = errors[epoch]+1\n",
    "    #print(\"errors:\",errors[epoch])\n",
    "    m = np.append(m, errors[epoch])\n",
    "    e = np.append(e, epoch)\n",
    "    epoch = epoch+1\n",
    "    for i in range(0,n): \n",
    "        d[train_label[i]] = 1 \n",
    "        u[predicted[i]] = 1 \n",
    "        if(np.array_equal(d,u)==False):\n",
    "            temp = train[i].reshape((1,-1))\n",
    "            w = w +(eta*(np.dot((d-u),temp)))\n",
    "        d = np.zeros([10,1])\n",
    "        u = np.zeros([10,1])\n",
    "    if((errors[epoch-1]/n)<=epsilon): \n",
    "        break\n"
   ]
  },
  {
   "cell_type": "code",
   "execution_count": 10,
   "metadata": {},
   "outputs": [
    {
     "data": {
      "text/plain": [
       "<Figure size 640x480 with 1 Axes>"
      ]
     },
     "metadata": {},
     "output_type": "display_data"
    }
   ],
   "source": [
    "    \n",
    "import matplotlib.pyplot as plt  \n",
    "  \n",
    "# plotting\n",
    "plt.plot(e, m) \n",
    "  \n",
    "# naming the x axis \n",
    "plt.xlabel('Epoch No.') \n",
    "# naming the y axis \n",
    "plt.ylabel('Number of misclassifications') \n",
    "  \n",
    "# giving a title to my graph \n",
    "plt.title('For learning rate=5 and samples=60000 and epsilon = 0.1') \n",
    "  \n",
    "# function to show the plot \n",
    "plt.show() "
   ]
  },
  {
   "cell_type": "code",
   "execution_count": 11,
   "metadata": {},
   "outputs": [
    {
     "ename": "IndexError",
     "evalue": "index 1 is out of bounds for axis 0 with size 1",
     "output_type": "error",
     "traceback": [
      "\u001b[0;31m---------------------------------------------------------------------------\u001b[0m",
      "\u001b[0;31mIndexError\u001b[0m                                Traceback (most recent call last)",
      "\u001b[0;32m<ipython-input-11-807a36d1ed7c>\u001b[0m in \u001b[0;36m<module>\u001b[0;34m\u001b[0m\n\u001b[1;32m      7\u001b[0m \u001b[0;31m#print(v1[1])\u001b[0m\u001b[0;34m\u001b[0m\u001b[0;34m\u001b[0m\u001b[0;34m\u001b[0m\u001b[0m\n\u001b[1;32m      8\u001b[0m \u001b[0;32mfor\u001b[0m \u001b[0mi\u001b[0m \u001b[0;32min\u001b[0m \u001b[0mrange\u001b[0m\u001b[0;34m(\u001b[0m\u001b[0;36m0\u001b[0m\u001b[0;34m,\u001b[0m\u001b[0;36m10000\u001b[0m\u001b[0;34m)\u001b[0m\u001b[0;34m:\u001b[0m\u001b[0;34m\u001b[0m\u001b[0;34m\u001b[0m\u001b[0m\n\u001b[0;32m----> 9\u001b[0;31m         \u001b[0mv1\u001b[0m\u001b[0;34m[\u001b[0m\u001b[0mi\u001b[0m\u001b[0;34m]\u001b[0m \u001b[0;34m=\u001b[0m \u001b[0mnp\u001b[0m\u001b[0;34m.\u001b[0m\u001b[0mdot\u001b[0m\u001b[0;34m(\u001b[0m\u001b[0mw\u001b[0m\u001b[0;34m,\u001b[0m\u001b[0mtest\u001b[0m\u001b[0;34m[\u001b[0m\u001b[0mi\u001b[0m\u001b[0;34m]\u001b[0m\u001b[0;34m)\u001b[0m\u001b[0;34m\u001b[0m\u001b[0;34m\u001b[0m\u001b[0m\n\u001b[0m\u001b[1;32m     10\u001b[0m         \u001b[0;31m#print(v1[i])\u001b[0m\u001b[0;34m\u001b[0m\u001b[0;34m\u001b[0m\u001b[0;34m\u001b[0m\u001b[0m\n\u001b[1;32m     11\u001b[0m         \u001b[0mp1\u001b[0m\u001b[0;34m[\u001b[0m\u001b[0mi\u001b[0m\u001b[0;34m]\u001b[0m \u001b[0;34m=\u001b[0m \u001b[0mnp\u001b[0m\u001b[0;34m.\u001b[0m\u001b[0margmax\u001b[0m\u001b[0;34m(\u001b[0m\u001b[0mv1\u001b[0m\u001b[0;34m[\u001b[0m\u001b[0mi\u001b[0m\u001b[0;34m]\u001b[0m\u001b[0;34m)\u001b[0m\u001b[0;34m\u001b[0m\u001b[0;34m\u001b[0m\u001b[0m\n",
      "\u001b[0;31mIndexError\u001b[0m: index 1 is out of bounds for axis 0 with size 1"
     ]
    }
   ],
   "source": [
    "#testing\n",
    "\n",
    "error = 0\n",
    "w.shape\n",
    "v1 = np.zeros([10000,10])\n",
    "p1 = np.zeros([10000,1])\n",
    "#print(v1[1])\n",
    "for i in range(0,10000):\n",
    "        v1[i] = np.dot(w,test[i])\n",
    "        #print(v1[i])\n",
    "        p1[i] = np.argmax(v1[i])\n",
    "        if(p1[i]!=test_label[i]):\n",
    "            error = error+1\n",
    "print('Errors:', error)\n",
    "print('%Errors:', (error/10000)*100 )"
   ]
  },
  {
   "cell_type": "markdown",
   "metadata": {},
   "source": [
    "This is for learning rate 5. The weight converges in lesser epochs (~70). \n",
    "\n",
    "The error rate on the test set is at 9.56%.\n"
   ]
  },
  {
   "cell_type": "code",
   "execution_count": null,
   "metadata": {},
   "outputs": [],
   "source": []
  }
 ],
 "metadata": {
  "kernelspec": {
   "display_name": "Python 3",
   "language": "python",
   "name": "python3"
  },
  "language_info": {
   "codemirror_mode": {
    "name": "ipython",
    "version": 3
   },
   "file_extension": ".py",
   "mimetype": "text/x-python",
   "name": "python",
   "nbconvert_exporter": "python",
   "pygments_lexer": "ipython3",
   "version": "3.7.3"
  }
 },
 "nbformat": 4,
 "nbformat_minor": 2
}
